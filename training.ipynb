{
  "cells": [
    {
      "cell_type": "code",
      "source": [
        "!pip install transformers\n",
        "!pip install datasets\n",
        "!pip install huggingface_hub"
      ],
      "metadata": {
        "id": "_h3gdme2iBLX"
      },
      "id": "_h3gdme2iBLX",
      "execution_count": null,
      "outputs": []
    },
    {
      "cell_type": "code",
      "execution_count": null,
      "id": "b32e3dc8",
      "metadata": {
        "execution": {
          "iopub.execute_input": "2023-08-31T20:18:27.111538Z",
          "iopub.status.busy": "2023-08-31T20:18:27.111010Z",
          "iopub.status.idle": "2023-08-31T20:18:30.130504Z",
          "shell.execute_reply": "2023-08-31T20:18:30.129196Z"
        },
        "papermill": {
          "duration": 3.032511,
          "end_time": "2023-08-31T20:18:30.133507",
          "exception": false,
          "start_time": "2023-08-31T20:18:27.100996",
          "status": "completed"
        },
        "tags": [],
        "id": "b32e3dc8"
      },
      "outputs": [],
      "source": [
        "import tensorflow as tf\n",
        "from transformers import AutoTokenizer\n",
        "import pandas as pd\n",
        "from sklearn.model_selection import train_test_split\n",
        "from datasets import Dataset\n",
        "from itertools import chain\n",
        "import datasets\n",
        "from transformers.keras_callbacks import PushToHubCallback\n",
        "from transformers import TFAutoModelForCausalLM, DataCollatorForLanguageModeling, create_optimizer, AdamWeightDecay\n",
        "\n",
        "import huggingface_hub\n",
        "huggingface_hub.login(\"YOURTOKEN\")\n",
        "\n",
        "modelName = \"Eliac11/tinkNLP\"\n",
        "datafilename = \"data.csv\""
      ]
    },
    {
      "cell_type": "code",
      "source": [
        "def getData(d):\n",
        "    chunk = 64\n",
        "    concat = {k: sum(d[k], []) for k in d.keys()}\n",
        "    l = len(concat[list(d.keys())[0]])\n",
        "    l = l if l < chunk else (l // chunk) * chunk\n",
        "    data = { k: [t[i : i + chunk] for i in range(0, l, chunk)] for k, t in concat.items()}\n",
        "    data[\"labels\"] = data[\"input_ids\"].copy()\n",
        "    return data"
      ],
      "metadata": {
        "id": "YSG4r-V2IzhH"
      },
      "id": "YSG4r-V2IzhH",
      "execution_count": 7,
      "outputs": []
    },
    {
      "cell_type": "code",
      "execution_count": 11,
      "id": "95f8be20",
      "metadata": {
        "execution": {
          "iopub.execute_input": "2023-08-31T20:18:31.183668Z",
          "iopub.status.busy": "2023-08-31T20:18:31.183323Z",
          "iopub.status.idle": "2023-08-31T20:18:32.660630Z",
          "shell.execute_reply": "2023-08-31T20:18:32.659404Z"
        },
        "papermill": {
          "duration": 1.491534,
          "end_time": "2023-08-31T20:18:32.664863",
          "exception": false,
          "start_time": "2023-08-31T20:18:31.173329",
          "status": "completed"
        },
        "tags": [],
        "id": "95f8be20"
      },
      "outputs": [],
      "source": [
        "df = pd.read_csv(datafilename)\n",
        "df = df.dropna()\n",
        "\n",
        "trnDf, valDf = train_test_split(df[:5000], test_size = 0.1)\n",
        "trnDf.head()\n",
        "\n",
        "trainDs = Dataset.from_pandas(trnDf, split=\"train\")\n",
        "testDs = Dataset.from_pandas(valDf, split=\"test\")\n",
        "\n",
        "\n",
        "tokenizer = AutoTokenizer.from_pretrained(modelName)\n",
        "\n",
        "def converting(e):\n",
        "    dat = []\n",
        "    for i in [\"context_3\", \"context_2\", \"context_1\", \"response\"]:\n",
        "      dat += [e[i]]\n",
        "    return tokenizer(\" \".join(dat))"
      ]
    },
    {
      "cell_type": "code",
      "execution_count": null,
      "id": "edc295ac",
      "metadata": {
        "execution": {
          "iopub.execute_input": "2023-08-31T20:18:33.654478Z",
          "iopub.status.busy": "2023-08-31T20:18:33.654023Z",
          "iopub.status.idle": "2023-08-31T20:18:36.256689Z",
          "shell.execute_reply": "2023-08-31T20:18:36.255781Z"
        },
        "papermill": {
          "duration": 2.618991,
          "end_time": "2023-08-31T20:18:36.258847",
          "exception": false,
          "start_time": "2023-08-31T20:18:33.639856",
          "status": "completed"
        },
        "tags": [],
        "id": "edc295ac"
      },
      "outputs": [],
      "source": [
        "tokenTrn = trainDs.map(converting, remove_columns=trainDs.column_names)\n",
        "tokenTest = testDs.map(converting, remove_columns=testDs.column_names)"
      ]
    },
    {
      "cell_type": "code",
      "execution_count": null,
      "id": "c06d57a2",
      "metadata": {
        "execution": {
          "iopub.execute_input": "2023-08-31T20:18:36.280975Z",
          "iopub.status.busy": "2023-08-31T20:18:36.280625Z",
          "iopub.status.idle": "2023-08-31T20:18:36.288525Z",
          "shell.execute_reply": "2023-08-31T20:18:36.287448Z"
        },
        "papermill": {
          "duration": 0.021006,
          "end_time": "2023-08-31T20:18:36.290771",
          "exception": false,
          "start_time": "2023-08-31T20:18:36.269765",
          "status": "completed"
        },
        "tags": [],
        "id": "c06d57a2"
      },
      "outputs": [],
      "source": [
        "\n",
        "lmTrn = tokenTrn.map(getData, batched=True, num_proc=4)\n",
        "lmTest = tokenTest.map(getData, batched=True, num_proc=4)\n",
        "\n",
        "dataCollator = DataCollatorForLanguageModeling(tokenizer=tokenizer, mlm=False, return_tensors=\"tf\")\n",
        "model = TFAutoModelForCausalLM.from_pretrained(modelName, from_pt=True)\n"
      ]
    },
    {
      "cell_type": "code",
      "execution_count": null,
      "id": "f95dc6f8",
      "metadata": {
        "execution": {
          "iopub.execute_input": "2023-08-31T17:13:53.467300Z",
          "iopub.status.busy": "2023-08-31T17:13:53.466909Z",
          "iopub.status.idle": "2023-08-31T17:13:53.878648Z",
          "shell.execute_reply": "2023-08-31T17:13:53.877630Z",
          "shell.execute_reply.started": "2023-08-31T17:13:53.467268Z"
        },
        "papermill": {
          "duration": null,
          "end_time": null,
          "exception": null,
          "start_time": null,
          "status": "pending"
        },
        "tags": [],
        "id": "f95dc6f8"
      },
      "outputs": [],
      "source": [
        "tfTrain = model.prepare_tf_dataset(lmTrn, shuffle=True, batch_size=16, collate_fn=dataCollator)\n",
        "tfTest = model.prepare_tf_dataset(lmTest, shuffle=False, batch_size=16, collate_fn=dataCollator)"
      ]
    },
    {
      "cell_type": "code",
      "execution_count": 15,
      "id": "1862ab80",
      "metadata": {
        "execution": {
          "iopub.execute_input": "2023-08-31T17:13:57.649833Z",
          "iopub.status.busy": "2023-08-31T17:13:57.649424Z",
          "iopub.status.idle": "2023-08-31T17:13:57.671015Z",
          "shell.execute_reply": "2023-08-31T17:13:57.670069Z",
          "shell.execute_reply.started": "2023-08-31T17:13:57.649776Z"
        },
        "papermill": {
          "duration": null,
          "end_time": null,
          "exception": null,
          "start_time": null,
          "status": "pending"
        },
        "tags": [],
        "id": "1862ab80"
      },
      "outputs": [],
      "source": [
        "optmzr = AdamWeightDecay(learning_rate=2e-5, weight_decay_rate=0.005)\n",
        "model.compile(optimizer=optmzr)"
      ]
    },
    {
      "cell_type": "code",
      "execution_count": null,
      "id": "8e1933b0",
      "metadata": {
        "execution": {
          "iopub.execute_input": "2023-08-31T17:14:00.175698Z",
          "iopub.status.busy": "2023-08-31T17:14:00.174917Z",
          "iopub.status.idle": "2023-08-31T17:14:03.459478Z",
          "shell.execute_reply": "2023-08-31T17:14:03.458322Z",
          "shell.execute_reply.started": "2023-08-31T17:14:00.175653Z"
        },
        "papermill": {
          "duration": null,
          "end_time": null,
          "exception": null,
          "start_time": null,
          "status": "pending"
        },
        "tags": [],
        "id": "8e1933b0"
      },
      "outputs": [],
      "source": [
        "hub = PushToHubCallback(output_dir=\"FitModel\", tokenizer=tokenizer)"
      ]
    },
    {
      "cell_type": "code",
      "source": [
        "modelSavePath = './data/'\n",
        "bestModelSavePath = './databest/'"
      ],
      "metadata": {
        "id": "VnC8dBZ1Sy1p"
      },
      "id": "VnC8dBZ1Sy1p",
      "execution_count": 33,
      "outputs": []
    },
    {
      "cell_type": "code",
      "source": [
        "cp_callback = tf.keras.callbacks.ModelCheckpoint(\n",
        "    modelSavePath, verbose=1, save_weights_only=False)\n",
        "\n",
        "es_callback = tf.keras.callbacks.EarlyStopping(monitor='val_accuracy', patience=5, verbose=1)\n",
        "\n",
        "model_checkpoint_callback = tf.keras.callbacks.ModelCheckpoint(\n",
        "    filepath=bestModelSavePath,\n",
        "    save_weights_only=True,\n",
        "    monitor='val_accuracy',\n",
        "    mode='max',\n",
        "    save_best_only=True)\n",
        "\n",
        "tb_callback = tf.keras.callbacks.TensorBoard('./logs', update_freq=1)"
      ],
      "metadata": {
        "id": "ub7DM46LSiz5"
      },
      "id": "ub7DM46LSiz5",
      "execution_count": 34,
      "outputs": []
    },
    {
      "cell_type": "code",
      "execution_count": null,
      "id": "815d5e2f",
      "metadata": {
        "execution": {
          "iopub.execute_input": "2023-08-31T17:14:05.389281Z",
          "iopub.status.busy": "2023-08-31T17:14:05.388896Z",
          "iopub.status.idle": "2023-08-31T17:18:59.486491Z",
          "shell.execute_reply": "2023-08-31T17:18:59.485316Z",
          "shell.execute_reply.started": "2023-08-31T17:14:05.389252Z"
        },
        "papermill": {
          "duration": null,
          "end_time": null,
          "exception": null,
          "start_time": null,
          "status": "pending"
        },
        "tags": [],
        "colab": {
          "base_uri": "https://localhost:8080/"
        },
        "id": "815d5e2f",
        "outputId": "35c5308b-01cb-43a9-c40a-3f14633dbefa"
      },
      "outputs": [
        {
          "output_type": "stream",
          "name": "stdout",
          "text": [
            "Epoch 1/100\n",
            "112/112 [==============================] - ETA: 0s - loss: 2.7611\n",
            "Epoch 1: saving model to ./data/\n"
          ]
        },
        {
          "output_type": "stream",
          "name": "stderr",
          "text": [
            "WARNING:absl:Found untraced functions such as serving, wte_layer_call_fn, wte_layer_call_and_return_conditional_losses, wpe_layer_call_fn, wpe_layer_call_and_return_conditional_losses while saving (showing 5 of 297). These functions will not be directly callable after loading.\n",
            "WARNING:tensorflow:Early stopping conditioned on metric `val_accuracy` which is not available. Available metrics are: loss,val_loss\n",
            "WARNING:tensorflow:Can save best model only with val_accuracy available, skipping.\n"
          ]
        },
        {
          "output_type": "stream",
          "name": "stdout",
          "text": [
            "\b\b\b\b\b\b\b\b\b\b\b\b\b\b\b\b\b\b\b\b\b\b\b\b\b\b\b\b\b\b\b\b\b\b\b\b\b\b\b\b\b\b\b\b\b\b\b\b\b\b\b\b\b\b\b\b\b\b\b\b\b\b\b\b\b\r112/112 [==============================] - 148s 1s/step - loss: 2.7611 - val_loss: 3.2917\n",
            "Epoch 2/100\n",
            "112/112 [==============================] - ETA: 0s - loss: 2.5272\n",
            "Epoch 2: saving model to ./data/\n"
          ]
        },
        {
          "output_type": "stream",
          "name": "stderr",
          "text": [
            "WARNING:absl:Found untraced functions such as serving, wte_layer_call_fn, wte_layer_call_and_return_conditional_losses, wpe_layer_call_fn, wpe_layer_call_and_return_conditional_losses while saving (showing 5 of 297). These functions will not be directly callable after loading.\n",
            "WARNING:tensorflow:Early stopping conditioned on metric `val_accuracy` which is not available. Available metrics are: loss,val_loss\n",
            "WARNING:tensorflow:Can save best model only with val_accuracy available, skipping.\n"
          ]
        },
        {
          "output_type": "stream",
          "name": "stdout",
          "text": [
            "\b\b\b\b\b\b\b\b\b\b\b\b\b\b\b\b\b\b\b\b\b\b\b\b\b\b\b\b\b\b\b\b\b\b\b\b\b\b\b\b\b\b\b\b\b\b\b\b\b\b\b\b\b\b\b\b\b\b\b\b\b\b\b\b\b\r112/112 [==============================] - 158s 1s/step - loss: 2.5272 - val_loss: 3.1344\n",
            "Epoch 3/100\n",
            "112/112 [==============================] - ETA: 0s - loss: 2.3172\n",
            "Epoch 3: saving model to ./data/\n"
          ]
        },
        {
          "output_type": "stream",
          "name": "stderr",
          "text": [
            "WARNING:absl:Found untraced functions such as serving, wte_layer_call_fn, wte_layer_call_and_return_conditional_losses, wpe_layer_call_fn, wpe_layer_call_and_return_conditional_losses while saving (showing 5 of 297). These functions will not be directly callable after loading.\n",
            "WARNING:tensorflow:Early stopping conditioned on metric `val_accuracy` which is not available. Available metrics are: loss,val_loss\n",
            "WARNING:tensorflow:Can save best model only with val_accuracy available, skipping.\n"
          ]
        },
        {
          "output_type": "stream",
          "name": "stdout",
          "text": [
            "\b\b\b\b\b\b\b\b\b\b\b\b\b\b\b\b\b\b\b\b\b\b\b\b\b\b\b\b\b\b\b\b\b\b\b\b\b\b\b\b\b\b\b\b\b\b\b\b\b\b\b\b\b\b\b\b\b\b\b\b\b\b\b\b\b\r112/112 [==============================] - 146s 1s/step - loss: 2.3172 - val_loss: 2.9982\n",
            "Epoch 4/100\n",
            "112/112 [==============================] - ETA: 0s - loss: 2.1298\n",
            "Epoch 4: saving model to ./data/\n"
          ]
        },
        {
          "output_type": "stream",
          "name": "stderr",
          "text": [
            "WARNING:absl:Found untraced functions such as serving, wte_layer_call_fn, wte_layer_call_and_return_conditional_losses, wpe_layer_call_fn, wpe_layer_call_and_return_conditional_losses while saving (showing 5 of 297). These functions will not be directly callable after loading.\n",
            "WARNING:tensorflow:Early stopping conditioned on metric `val_accuracy` which is not available. Available metrics are: loss,val_loss\n",
            "WARNING:tensorflow:Can save best model only with val_accuracy available, skipping.\n"
          ]
        },
        {
          "output_type": "stream",
          "name": "stdout",
          "text": [
            "\b\b\b\b\b\b\b\b\b\b\b\b\b\b\b\b\b\b\b\b\b\b\b\b\b\b\b\b\b\b\b\b\b\b\b\b\b\b\b\b\b\b\b\b\b\b\b\b\b\b\b\b\b\b\b\b\b\b\b\b\b\b\b\b\b\r112/112 [==============================] - 145s 1s/step - loss: 2.1298 - val_loss: 2.8936\n",
            "Epoch 5/100\n",
            "112/112 [==============================] - ETA: 0s - loss: 1.9620\n",
            "Epoch 5: saving model to ./data/\n"
          ]
        },
        {
          "output_type": "stream",
          "name": "stderr",
          "text": [
            "WARNING:absl:Found untraced functions such as serving, wte_layer_call_fn, wte_layer_call_and_return_conditional_losses, wpe_layer_call_fn, wpe_layer_call_and_return_conditional_losses while saving (showing 5 of 297). These functions will not be directly callable after loading.\n",
            "WARNING:tensorflow:Early stopping conditioned on metric `val_accuracy` which is not available. Available metrics are: loss,val_loss\n",
            "WARNING:tensorflow:Can save best model only with val_accuracy available, skipping.\n"
          ]
        },
        {
          "output_type": "stream",
          "name": "stdout",
          "text": [
            "\b\b\b\b\b\b\b\b\b\b\b\b\b\b\b\b\b\b\b\b\b\b\b\b\b\b\b\b\b\b\b\b\b\b\b\b\b\b\b\b\b\b\b\b\b\b\b\b\b\b\b\b\b\b\b\b\b\b\b\b\b\b\b\b\b\r112/112 [==============================] - 141s 1s/step - loss: 1.9620 - val_loss: 2.7805\n",
            "Epoch 6/100\n",
            "112/112 [==============================] - ETA: 0s - loss: 1.8145\n",
            "Epoch 6: saving model to ./data/\n"
          ]
        },
        {
          "output_type": "stream",
          "name": "stderr",
          "text": [
            "WARNING:absl:Found untraced functions such as serving, wte_layer_call_fn, wte_layer_call_and_return_conditional_losses, wpe_layer_call_fn, wpe_layer_call_and_return_conditional_losses while saving (showing 5 of 297). These functions will not be directly callable after loading.\n",
            "WARNING:tensorflow:Early stopping conditioned on metric `val_accuracy` which is not available. Available metrics are: loss,val_loss\n",
            "WARNING:tensorflow:Can save best model only with val_accuracy available, skipping.\n"
          ]
        },
        {
          "output_type": "stream",
          "name": "stdout",
          "text": [
            "\b\b\b\b\b\b\b\b\b\b\b\b\b\b\b\b\b\b\b\b\b\b\b\b\b\b\b\b\b\b\b\b\b\b\b\b\b\b\b\b\b\b\b\b\b\b\b\b\b\b\b\b\b\b\b\b\b\b\b\b\b\b\b\b\b\r112/112 [==============================] - 137s 1s/step - loss: 1.8145 - val_loss: 2.6929\n",
            "Epoch 7/100\n",
            "112/112 [==============================] - ETA: 0s - loss: 1.6762\n",
            "Epoch 7: saving model to ./data/\n"
          ]
        },
        {
          "output_type": "stream",
          "name": "stderr",
          "text": [
            "WARNING:absl:Found untraced functions such as serving, wte_layer_call_fn, wte_layer_call_and_return_conditional_losses, wpe_layer_call_fn, wpe_layer_call_and_return_conditional_losses while saving (showing 5 of 297). These functions will not be directly callable after loading.\n",
            "WARNING:tensorflow:Early stopping conditioned on metric `val_accuracy` which is not available. Available metrics are: loss,val_loss\n",
            "WARNING:tensorflow:Can save best model only with val_accuracy available, skipping.\n"
          ]
        },
        {
          "output_type": "stream",
          "name": "stdout",
          "text": [
            "\b\b\b\b\b\b\b\b\b\b\b\b\b\b\b\b\b\b\b\b\b\b\b\b\b\b\b\b\b\b\b\b\b\b\b\b\b\b\b\b\b\b\b\b\b\b\b\b\b\b\b\b\b\b\b\b\b\b\b\b\b\b\b\b\b\r112/112 [==============================] - 149s 1s/step - loss: 1.6762 - val_loss: 2.6139\n",
            "Epoch 8/100\n",
            "112/112 [==============================] - ETA: 0s - loss: 1.5531\n",
            "Epoch 8: saving model to ./data/\n"
          ]
        },
        {
          "output_type": "stream",
          "name": "stderr",
          "text": [
            "WARNING:absl:Found untraced functions such as serving, wte_layer_call_fn, wte_layer_call_and_return_conditional_losses, wpe_layer_call_fn, wpe_layer_call_and_return_conditional_losses while saving (showing 5 of 297). These functions will not be directly callable after loading.\n",
            "WARNING:tensorflow:Early stopping conditioned on metric `val_accuracy` which is not available. Available metrics are: loss,val_loss\n",
            "WARNING:tensorflow:Can save best model only with val_accuracy available, skipping.\n"
          ]
        },
        {
          "output_type": "stream",
          "name": "stdout",
          "text": [
            "\b\b\b\b\b\b\b\b\b\b\b\b\b\b\b\b\b\b\b\b\b\b\b\b\b\b\b\b\b\b\b\b\b\b\b\b\b\b\b\b\b\b\b\b\b\b\b\b\b\b\b\b\b\b\b\b\b\b\b\b\b\b\b\b\b\r112/112 [==============================] - 149s 1s/step - loss: 1.5531 - val_loss: 2.5450\n",
            "Epoch 9/100\n",
            "112/112 [==============================] - ETA: 0s - loss: 1.4394\n",
            "Epoch 9: saving model to ./data/\n"
          ]
        },
        {
          "output_type": "stream",
          "name": "stderr",
          "text": [
            "WARNING:absl:Found untraced functions such as serving, wte_layer_call_fn, wte_layer_call_and_return_conditional_losses, wpe_layer_call_fn, wpe_layer_call_and_return_conditional_losses while saving (showing 5 of 297). These functions will not be directly callable after loading.\n",
            "WARNING:tensorflow:Early stopping conditioned on metric `val_accuracy` which is not available. Available metrics are: loss,val_loss\n",
            "WARNING:tensorflow:Can save best model only with val_accuracy available, skipping.\n"
          ]
        },
        {
          "output_type": "stream",
          "name": "stdout",
          "text": [
            "\b\b\b\b\b\b\b\b\b\b\b\b\b\b\b\b\b\b\b\b\b\b\b\b\b\b\b\b\b\b\b\b\b\b\b\b\b\b\b\b\b\b\b\b\b\b\b\b\b\b\b\b\b\b\b\b\b\b\b\b\b\b\b\b\b\r112/112 [==============================] - 139s 1s/step - loss: 1.4394 - val_loss: 2.4895\n",
            "Epoch 10/100\n",
            "112/112 [==============================] - ETA: 0s - loss: 1.3463\n",
            "Epoch 10: saving model to ./data/\n"
          ]
        },
        {
          "output_type": "stream",
          "name": "stderr",
          "text": [
            "WARNING:absl:Found untraced functions such as serving, wte_layer_call_fn, wte_layer_call_and_return_conditional_losses, wpe_layer_call_fn, wpe_layer_call_and_return_conditional_losses while saving (showing 5 of 297). These functions will not be directly callable after loading.\n",
            "WARNING:tensorflow:Early stopping conditioned on metric `val_accuracy` which is not available. Available metrics are: loss,val_loss\n",
            "WARNING:tensorflow:Can save best model only with val_accuracy available, skipping.\n"
          ]
        },
        {
          "output_type": "stream",
          "name": "stdout",
          "text": [
            "\b\b\b\b\b\b\b\b\b\b\b\b\b\b\b\b\b\b\b\b\b\b\b\b\b\b\b\b\b\b\b\b\b\b\b\b\b\b\b\b\b\b\b\b\b\b\b\b\b\b\b\b\b\b\b\b\b\b\b\b\b\b\b\b\b\r112/112 [==============================] - 153s 1s/step - loss: 1.3463 - val_loss: 2.4272\n",
            "Epoch 11/100\n",
            "112/112 [==============================] - ETA: 0s - loss: 1.2504\n",
            "Epoch 11: saving model to ./data/\n"
          ]
        },
        {
          "output_type": "stream",
          "name": "stderr",
          "text": [
            "WARNING:absl:Found untraced functions such as serving, wte_layer_call_fn, wte_layer_call_and_return_conditional_losses, wpe_layer_call_fn, wpe_layer_call_and_return_conditional_losses while saving (showing 5 of 297). These functions will not be directly callable after loading.\n",
            "WARNING:tensorflow:Early stopping conditioned on metric `val_accuracy` which is not available. Available metrics are: loss,val_loss\n",
            "WARNING:tensorflow:Can save best model only with val_accuracy available, skipping.\n"
          ]
        },
        {
          "output_type": "stream",
          "name": "stdout",
          "text": [
            "\b\b\b\b\b\b\b\b\b\b\b\b\b\b\b\b\b\b\b\b\b\b\b\b\b\b\b\b\b\b\b\b\b\b\b\b\b\b\b\b\b\b\b\b\b\b\b\b\b\b\b\b\b\b\b\b\b\b\b\b\b\b\b\b\b\r112/112 [==============================] - 144s 1s/step - loss: 1.2504 - val_loss: 2.3718\n",
            "Epoch 12/100\n",
            "112/112 [==============================] - ETA: 0s - loss: 1.1740\n",
            "Epoch 12: saving model to ./data/\n"
          ]
        },
        {
          "output_type": "stream",
          "name": "stderr",
          "text": [
            "WARNING:absl:Found untraced functions such as serving, wte_layer_call_fn, wte_layer_call_and_return_conditional_losses, wpe_layer_call_fn, wpe_layer_call_and_return_conditional_losses while saving (showing 5 of 297). These functions will not be directly callable after loading.\n",
            "WARNING:tensorflow:Early stopping conditioned on metric `val_accuracy` which is not available. Available metrics are: loss,val_loss\n",
            "WARNING:tensorflow:Can save best model only with val_accuracy available, skipping.\n"
          ]
        },
        {
          "output_type": "stream",
          "name": "stdout",
          "text": [
            "\b\b\b\b\b\b\b\b\b\b\b\b\b\b\b\b\b\b\b\b\b\b\b\b\b\b\b\b\b\b\b\b\b\b\b\b\b\b\b\b\b\b\b\b\b\b\b\b\b\b\b\b\b\b\b\b\b\b\b\b\b\b\b\b\b\r112/112 [==============================] - 162s 1s/step - loss: 1.1740 - val_loss: 2.3381\n",
            "Epoch 13/100\n",
            "112/112 [==============================] - ETA: 0s - loss: 1.0953\n",
            "Epoch 13: saving model to ./data/\n"
          ]
        },
        {
          "output_type": "stream",
          "name": "stderr",
          "text": [
            "WARNING:absl:Found untraced functions such as serving, wte_layer_call_fn, wte_layer_call_and_return_conditional_losses, wpe_layer_call_fn, wpe_layer_call_and_return_conditional_losses while saving (showing 5 of 297). These functions will not be directly callable after loading.\n",
            "WARNING:tensorflow:Early stopping conditioned on metric `val_accuracy` which is not available. Available metrics are: loss,val_loss\n",
            "WARNING:tensorflow:Can save best model only with val_accuracy available, skipping.\n"
          ]
        },
        {
          "output_type": "stream",
          "name": "stdout",
          "text": [
            "\b\b\b\b\b\b\b\b\b\b\b\b\b\b\b\b\b\b\b\b\b\b\b\b\b\b\b\b\b\b\b\b\b\b\b\b\b\b\b\b\b\b\b\b\b\b\b\b\b\b\b\b\b\b\b\b\b\b\b\b\b\b\b\b\b\r112/112 [==============================] - 143s 1s/step - loss: 1.0953 - val_loss: 2.3067\n",
            "Epoch 14/100\n",
            "112/112 [==============================] - ETA: 0s - loss: 1.0245\n",
            "Epoch 14: saving model to ./data/\n"
          ]
        },
        {
          "output_type": "stream",
          "name": "stderr",
          "text": [
            "WARNING:absl:Found untraced functions such as serving, wte_layer_call_fn, wte_layer_call_and_return_conditional_losses, wpe_layer_call_fn, wpe_layer_call_and_return_conditional_losses while saving (showing 5 of 297). These functions will not be directly callable after loading.\n",
            "WARNING:tensorflow:Early stopping conditioned on metric `val_accuracy` which is not available. Available metrics are: loss,val_loss\n",
            "WARNING:tensorflow:Can save best model only with val_accuracy available, skipping.\n"
          ]
        }
      ],
      "source": [
        "model.fit(x=tfTrain, validation_data=tfTest, epochs=100, callbacks=[cp_callback, es_callback, tb_callback, model_checkpoint_callback, hub])"
      ]
    }
  ],
  "metadata": {
    "kernelspec": {
      "display_name": "Python 3",
      "name": "python3"
    },
    "language_info": {
      "codemirror_mode": {
        "name": "ipython",
        "version": 3
      },
      "file_extension": ".py",
      "mimetype": "text/x-python",
      "name": "python",
      "nbconvert_exporter": "python",
      "pygments_lexer": "ipython3",
      "version": "3.10.12"
    },
    "papermill": {
      "default_parameters": {},
      "duration": 24.418572,
      "end_time": "2023-08-31T20:18:40.438822",
      "environment_variables": {},
      "exception": true,
      "input_path": "__notebook__.ipynb",
      "output_path": "__notebook__.ipynb",
      "parameters": {},
      "start_time": "2023-08-31T20:18:16.020250",
      "version": "2.4.0"
    },
    "colab": {
      "provenance": [],
      "gpuType": "T4"
    },
    "accelerator": "GPU"
  },
  "nbformat": 4,
  "nbformat_minor": 5
}